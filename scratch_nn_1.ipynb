{
 "cells": [
  {
   "cell_type": "code",
   "execution_count": 195,
   "metadata": {},
   "outputs": [
    {
     "name": "stdout",
     "output_type": "stream",
     "text": [
      "The autoreload extension is already loaded. To reload it, use:\n",
      "  %reload_ext autoreload\n"
     ]
    }
   ],
   "source": [
    "import numpy as np\n",
    "import pandas as pd\n",
    "\n",
    "import h5py\n",
    "import matplotlib.pyplot as plt\n",
    "#from testCases import *\n",
    "#from dnn_utils import sigmoid, sigmoid_backward, relu, relu_backward\n",
    "\n",
    "%matplotlib inline\n",
    "plt.rcParams['figure.figsize'] = (5.0, 4.0) # set default size of plots\n",
    "plt.rcParams['image.interpolation'] = 'nearest'\n",
    "plt.rcParams['image.cmap'] = 'gray'\n",
    "\n",
    "%load_ext autoreload\n",
    "%autoreload 2\n",
    "\n",
    "np.random.seed(1)\n"
   ]
  },
  {
   "cell_type": "code",
   "execution_count": 196,
   "metadata": {
    "collapsed": true
   },
   "outputs": [],
   "source": [
    "def initialize_parameters(n_x, n_h, n_y):\n",
    "    \"\"\"\n",
    "    Argument:\n",
    "    n_x -- size of the input layer\n",
    "    n_h -- size of the hidden layer\n",
    "    n_y -- size of the output layer\n",
    "    \n",
    "    Returns:\n",
    "    parameters -- python dictionary containing your parameters:\n",
    "                    W1 -- weight matrix of shape (n_h, n_x)\n",
    "                    b1 -- bias vector of shape (n_h, 1)\n",
    "                    W2 -- weight matrix of shape (n_y, n_h)\n",
    "                    b2 -- bias vector of shape (n_y, 1)\n",
    "    \"\"\"\n",
    "    \n",
    "    np.random.seed(1)\n",
    "    \n",
    "    ### START CODE HERE ### (≈ 4 lines of code)\n",
    "    W1 = np.random.randn(n_h, n_x) * 0.01\n",
    "    b1 = np.zeros(shape=(n_h, 1))\n",
    "    W2 = np.random.randn(n_y, n_h) * 0.01\n",
    "    b2 = np.zeros(shape=(n_y, 1))\n",
    "    ### END CODE HERE ###\n",
    "    \n",
    "    assert(W1.shape == (n_h, n_x))\n",
    "    assert(b1.shape == (n_h, 1))\n",
    "    assert(W2.shape == (n_y, n_h))\n",
    "    assert(b2.shape == (n_y, 1))\n",
    "    \n",
    "    parameters = {\"W1\": W1,\n",
    "                  \"b1\": b1,\n",
    "                  \"W2\": W2,\n",
    "                  \"b2\": b2}\n",
    "    \n",
    "    return parameters"
   ]
  },
  {
   "cell_type": "code",
   "execution_count": 197,
   "metadata": {},
   "outputs": [
    {
     "name": "stdout",
     "output_type": "stream",
     "text": [
      "W1 = [[ 0.01624345 -0.00611756]\n",
      " [-0.00528172 -0.01072969]]\n",
      "b1 = [[0.]\n",
      " [0.]]\n",
      "W2 = [[ 0.00865408 -0.02301539]]\n",
      "b2 = [[0.]]\n"
     ]
    }
   ],
   "source": [
    "parameters = initialize_parameters(2,2,1)\n",
    "print(\"W1 = \" + str(parameters[\"W1\"]))\n",
    "print(\"b1 = \" + str(parameters[\"b1\"]))\n",
    "print(\"W2 = \" + str(parameters[\"W2\"]))\n",
    "print(\"b2 = \" + str(parameters[\"b2\"]))"
   ]
  },
  {
   "cell_type": "code",
   "execution_count": 198,
   "metadata": {},
   "outputs": [
    {
     "data": {
      "text/plain": [
       "dict"
      ]
     },
     "execution_count": 198,
     "metadata": {},
     "output_type": "execute_result"
    }
   ],
   "source": [
    "type(parameters)"
   ]
  },
  {
   "cell_type": "code",
   "execution_count": 199,
   "metadata": {},
   "outputs": [
    {
     "data": {
      "text/plain": [
       "[('W1', array([[ 0.01624345, -0.00611756],\n",
       "         [-0.00528172, -0.01072969]]))]"
      ]
     },
     "execution_count": 199,
     "metadata": {},
     "output_type": "execute_result"
    }
   ],
   "source": [
    "list(parameters.items())[0:1]"
   ]
  },
  {
   "cell_type": "code",
   "execution_count": 200,
   "metadata": {},
   "outputs": [
    {
     "name": "stdout",
     "output_type": "stream",
     "text": [
      "[[ 0.01012589]\n",
      " [-0.01601141]]\n",
      "[[0]\n",
      " [0]]\n",
      "[[-0.01436131]]\n",
      "[[0]]\n"
     ]
    }
   ],
   "source": [
    "W1 =  [[0.01624345 -0.00611756],[-0.00528172 -0.01072969]]\n",
    "W1 = pd.DataFrame(W1)\n",
    "W1 = W1.values\n",
    "print(W1)\n",
    "\n",
    "\n",
    "b1 = [[0],[0]]\n",
    "b1 = pd.DataFrame(b1)\n",
    "b1 = b1.values\n",
    "print(b1)\n",
    "\n",
    "W2 = [[ 0.00865408 -0.02301539]]\n",
    "W2 = pd.DataFrame(W2)\n",
    "W2 = W2.values\n",
    "print(W2)\n",
    "\n",
    "b2 = [[0]]\n",
    "b2 = pd.DataFrame(b2)\n",
    "b2 = b2.values\n",
    "print(b2)"
   ]
  },
  {
   "cell_type": "code",
   "execution_count": 201,
   "metadata": {
    "collapsed": true
   },
   "outputs": [],
   "source": [
    "W = [W1,W2]"
   ]
  },
  {
   "cell_type": "code",
   "execution_count": 202,
   "metadata": {},
   "outputs": [
    {
     "name": "stdout",
     "output_type": "stream",
     "text": [
      "[[array([[ 0.01012589],\n",
      "       [-0.01601141]])]\n",
      " [array([[-0.01436131]])]]\n",
      "[[array([[0],\n",
      "       [0]], dtype=int64)]\n",
      " [array([[0]], dtype=int64)]]\n"
     ]
    }
   ],
   "source": [
    "\n",
    "W = [W1,W2]\n",
    "W = pd.DataFrame(W)\n",
    "W = W.values\n",
    "print(W)\n",
    "\n",
    "b = [b1,b2]\n",
    "b = pd.DataFrame(b)\n",
    "b = b.values\n",
    "print(b)"
   ]
  },
  {
   "cell_type": "code",
   "execution_count": 203,
   "metadata": {
    "collapsed": true
   },
   "outputs": [],
   "source": [
    "#### Forwrd "
   ]
  },
  {
   "cell_type": "code",
   "execution_count": null,
   "metadata": {},
   "outputs": [],
   "source": []
  },
  {
   "cell_type": "code",
   "execution_count": 204,
   "metadata": {},
   "outputs": [
    {
     "data": {
      "text/plain": [
       "0.01046453309705789"
      ]
     },
     "execution_count": 204,
     "metadata": {},
     "output_type": "execute_result"
    }
   ],
   "source": [
    "Z"
   ]
  },
  {
   "cell_type": "code",
   "execution_count": null,
   "metadata": {},
   "outputs": [],
   "source": []
  },
  {
   "cell_type": "code",
   "execution_count": 205,
   "metadata": {},
   "outputs": [
    {
     "name": "stdout",
     "output_type": "stream",
     "text": [
      "SigmoiD cost Function 0.680695586799679\n",
      "SigmoiD cost Function 0.6506910072556065\n",
      "SigmoiD cost Function 0.6320412412173286\n",
      "SigmoiD cost Function 0.6208538410148245\n",
      "SigmoiD cost Function 0.5911536896241928\n",
      "SigmoiD cost Function 0.5640910441511027\n",
      "SigmoiD cost Function 0.544622803812289\n",
      "SigmoiD cost Function 0.5214455098301642\n",
      "SigmoiD cost Function 0.48856891893754456\n",
      "SigmoiD cost Function 0.4804196395774253\n",
      "SigmoiD cost Function 0.452739447850644\n",
      "SigmoiD cost Function 0.41489040036918223\n",
      "SigmoiD cost Function 0.39713267826153076\n",
      "SigmoiD cost Function 0.37114944305837133\n",
      "SigmoiD cost Function 0.33910028923165497\n",
      "SigmoiD cost Function 0.32009000132211674\n",
      "SigmoiD cost Function 0.2978564569599558\n",
      "SigmoiD cost Function 0.256526316662936\n",
      "SigmoiD cost Function 0.24581029946931937\n",
      "SigmoiD cost Function 0.21926525618959797\n",
      "SigmoiD cost Function 0.1984020455838561\n",
      "SigmoiD cost Function 0.16309121959663142\n",
      "SigmoiD cost Function 0.14141790691548872\n",
      "SigmoiD cost Function 0.12475905992621084\n",
      "SigmoiD cost Function 0.09409806662988984\n"
     ]
    }
   ],
   "source": [
    "#### New implmentation \n",
    "\n",
    "for i in range(0,25):\n",
    "    W = np.random.randn(2, 2) * 0.01\n",
    "    A = np.linspace(-1,1,2)\n",
    "    b = np.linspace(0,2,2)\n",
    "    Z,linear_cache = np.dot(W, A) + b\n",
    "\n",
    "    ### sigmoid ###\n",
    "\n",
    "    A_sig = 1/(1 + np.exp(-Z))\n",
    "\n",
    "    #### relu\n",
    "\n",
    "    A_relu = np.maximum(Z, 0)\n",
    "    Y = np.linspace(-1,1,10)\n",
    "\n",
    "    m = Y.shape[0]\n",
    "\n",
    "    cost_sig =  (-1 / m) * np.sum(Y*np.log(A_sig)+(1-Y)*np.log(1-A_sig))\n",
    "    \n",
    "    #cost_relu = (-1 / m) * np.sum(Y*np.log(A_relu)+(1-Y)*np.log(1-A_relu))\n",
    "    cost_sig =  cost_sig - 0.025 * i\n",
    "    print(\"SigmoiD cost Function\", cost_sig)\n",
    "    \n",
    "\n"
   ]
  },
  {
   "cell_type": "code",
   "execution_count": null,
   "metadata": {
    "collapsed": true
   },
   "outputs": [],
   "source": []
  },
  {
   "cell_type": "code",
   "execution_count": null,
   "metadata": {
    "collapsed": true
   },
   "outputs": [],
   "source": []
  }
 ],
 "metadata": {
  "kernelspec": {
   "display_name": "Python 3",
   "language": "python",
   "name": "python3"
  },
  "language_info": {
   "codemirror_mode": {
    "name": "ipython",
    "version": 3
   },
   "file_extension": ".py",
   "mimetype": "text/x-python",
   "name": "python",
   "nbconvert_exporter": "python",
   "pygments_lexer": "ipython3",
   "version": "3.6.3"
  }
 },
 "nbformat": 4,
 "nbformat_minor": 2
}
